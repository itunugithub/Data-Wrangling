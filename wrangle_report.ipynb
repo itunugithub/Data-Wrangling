{
 "cells": [
  {
   "cell_type": "raw",
   "metadata": {},
   "source": [
    "#### Reporting: wragle_report\n",
    "* Create a **300-600 word written report** called \"wrangle_report.pdf\" or \"wrangle_report.html\" that briefly describes your wrangling efforts. This is to be framed as an internal document."
   ]
  },
  {
   "cell_type": "markdown",
   "metadata": {},
   "source": [
    "#### DATA WRANGLING REPORT"
   ]
  },
  {
   "cell_type": "markdown",
   "metadata": {},
   "source": [
    "###### Objective \n",
    "\n",
    "The objective of this report is to understand and carry out a data wrangling process by gathering data from a variety of sources and in a variety of formats, assess its quality and tidiness, then clean it. plus showcase them through analyses and visualizations using Python (and its libraries) and/or SQL.\n"
   ]
  },
  {
   "cell_type": "markdown",
   "metadata": {},
   "source": [
    "#### Data Gathering \n",
    "\n",
    "The following are the steps carried out in the data gathering process\n",
    "-\tManually download the WeRateDogs Twitter archive data provided by Udacity and read it into a data frame.\n",
    "-\tProgrammatically download the second data (image prediction) using the Requests library and URL hosted on Udacity's servers.\n",
    "-\tQuery Twitter API for each tweet in the Twitter archive using Python's Tweepy library and save JSON in a text file. Write each tweet's JSON data to its own line, then read the tweet_json .txt file line by line into a pandas DataFrame with tweet ID, retweet count, and favorite count. \n"
   ]
  },
  {
   "cell_type": "markdown",
   "metadata": {},
   "source": [
    "#### Assessing Data\n",
    "\n",
    "Following the gathering of the three pieces of data, I carried out a visual and programmatic assessment for quality and tidiness issues. Below are some of the assessment methods adopted\n",
    "-\tdf_1.info()\n",
    "-\tdf_1.shape()\n",
    "-\tdf_1.describe()\n",
    "-\tdf_3.isnull().sum()\n",
    "-\tdf_3.duplicated().sum()\n"
   ]
  },
  {
   "cell_type": "markdown",
   "metadata": {},
   "source": [
    "#### Data Cleaning\n",
    "\n",
    "In cleaning the data, the following were carried out\n",
    "-\tI created a copy of the original data before cleaning\n",
    "-\tI Adopted the define code-test framework\n",
    "-\tI documented the define code-test framework\n",
    "-\tI Created a master data frame with all pieces of gathered data \n",
    "All the issues identified while assessing data will be cleaned and tidied up, the issues identified include:\n",
    "\n",
    "Quality\n",
    "\n",
    "-\tTweet_id in the three data frame is a string not an int\n",
    "-\tMissing values in the (in_reply_to_status_id and in_reply_to_user_id) column\n",
    "-\tNull values in the expanded url and repitition of url in some rows\n",
    "-\tTweet_ids with value in the retweeted_status_id, retweeted_status_user_id and retweeted_status_timestamp \n",
    "-\tTime_stamp column is a datetime data type.\n",
    "-\tRetweet columns\n",
    "-\tInconsistent letter case for values in P1, P2 and P3\n",
    "-\tConvert p1_conf, p2_conf, p3_conf columns to percentage\n",
    "\n",
    "Tidiness\n",
    "\n",
    "-\tDog stages in different columns should be melted into a single column.\n",
    "-\tThe three data set to be merged into a single data set\n"
   ]
  },
  {
   "cell_type": "markdown",
   "metadata": {},
   "source": [
    "#### Storing Data\n",
    "\n",
    "Following the gathering, assessing and cleaning process carried out, the master_df was stored in a CSV file named twitter_archive_master.csv\n"
   ]
  },
  {
   "cell_type": "code",
   "execution_count": null,
   "metadata": {},
   "outputs": [],
   "source": []
  }
 ],
 "metadata": {
  "kernelspec": {
   "display_name": "Python 3",
   "language": "python",
   "name": "python3"
  },
  "language_info": {
   "codemirror_mode": {
    "name": "ipython",
    "version": 3
   },
   "file_extension": ".py",
   "mimetype": "text/x-python",
   "name": "python",
   "nbconvert_exporter": "python",
   "pygments_lexer": "ipython3",
   "version": "3.6.3"
  }
 },
 "nbformat": 4,
 "nbformat_minor": 2
}
